{
 "cells": [
  {
   "cell_type": "markdown",
   "id": "9e009309",
   "metadata": {},
   "source": [
    "# Term Deposit\n",
    "@author: Talardia Gbangou, October 2022\n",
    "\n",
    "We want to predict the performance of client who did or did not subscribe to a term deposit. The aim is to reach performance score (score >=81%) by evaluating a 5-fold cross-validation and reporting the average performance score.\n",
    "\n",
    "Bellow, we following steps:\n",
    "\n",
    "* load the required libraries and models.\n",
    "* Exploring, visualizing, describing, and understanding the dataset.\n",
    "* Examine classes and class imbalance\n",
    "* Check multicollinearity for numerical and categorical features:significance analysis \n",
    "* Removing outliers.\n",
    "* Splitting the dataset into Train and Test sets \n",
    "* Fixing the imbalanced issue.\n",
    "* Testing different Machine Learning pipelines with lazypredict to select the best baic models.\n",
    "* Evaluating models and analyzing results."
   ]
  },
  {
   "cell_type": "markdown",
   "id": "d3804848",
   "metadata": {},
   "source": [
    "# Importing modules"
   ]
  },
  {
   "cell_type": "code",
   "execution_count": 234,
   "id": "cd213353",
   "metadata": {},
   "outputs": [],
   "source": [
    "import pandas as pd\n",
    "import numpy as np\n",
    "import seaborn as sns\n",
    "import matplotlib.pyplot as plt\n",
    "%matplotlib inline\n",
    "from scipy import stats"
   ]
  },
  {
   "cell_type": "markdown",
   "id": "880f563a",
   "metadata": {},
   "source": [
    "# Load data"
   ]
  },
  {
   "cell_type": "code",
   "execution_count": 235,
   "id": "a5e693cd",
   "metadata": {},
   "outputs": [],
   "source": [
    "df = pd.read_csv(\"term-deposit-marketing-2020.csv\")"
   ]
  },
  {
   "cell_type": "code",
   "execution_count": 236,
   "id": "92d2852c",
   "metadata": {},
   "outputs": [
    {
     "data": {
      "text/html": [
       "<div>\n",
       "<style scoped>\n",
       "    .dataframe tbody tr th:only-of-type {\n",
       "        vertical-align: middle;\n",
       "    }\n",
       "\n",
       "    .dataframe tbody tr th {\n",
       "        vertical-align: top;\n",
       "    }\n",
       "\n",
       "    .dataframe thead th {\n",
       "        text-align: right;\n",
       "    }\n",
       "</style>\n",
       "<table border=\"1\" class=\"dataframe\">\n",
       "  <thead>\n",
       "    <tr style=\"text-align: right;\">\n",
       "      <th></th>\n",
       "      <th>age</th>\n",
       "      <th>job</th>\n",
       "      <th>marital</th>\n",
       "      <th>education</th>\n",
       "      <th>default</th>\n",
       "      <th>balance</th>\n",
       "      <th>housing</th>\n",
       "      <th>loan</th>\n",
       "      <th>contact</th>\n",
       "      <th>day</th>\n",
       "      <th>month</th>\n",
       "      <th>duration</th>\n",
       "      <th>campaign</th>\n",
       "      <th>y</th>\n",
       "    </tr>\n",
       "  </thead>\n",
       "  <tbody>\n",
       "    <tr>\n",
       "      <th>0</th>\n",
       "      <td>58</td>\n",
       "      <td>management</td>\n",
       "      <td>married</td>\n",
       "      <td>tertiary</td>\n",
       "      <td>no</td>\n",
       "      <td>2143</td>\n",
       "      <td>yes</td>\n",
       "      <td>no</td>\n",
       "      <td>unknown</td>\n",
       "      <td>5</td>\n",
       "      <td>may</td>\n",
       "      <td>261</td>\n",
       "      <td>1</td>\n",
       "      <td>no</td>\n",
       "    </tr>\n",
       "    <tr>\n",
       "      <th>1</th>\n",
       "      <td>44</td>\n",
       "      <td>technician</td>\n",
       "      <td>single</td>\n",
       "      <td>secondary</td>\n",
       "      <td>no</td>\n",
       "      <td>29</td>\n",
       "      <td>yes</td>\n",
       "      <td>no</td>\n",
       "      <td>unknown</td>\n",
       "      <td>5</td>\n",
       "      <td>may</td>\n",
       "      <td>151</td>\n",
       "      <td>1</td>\n",
       "      <td>no</td>\n",
       "    </tr>\n",
       "    <tr>\n",
       "      <th>2</th>\n",
       "      <td>33</td>\n",
       "      <td>entrepreneur</td>\n",
       "      <td>married</td>\n",
       "      <td>secondary</td>\n",
       "      <td>no</td>\n",
       "      <td>2</td>\n",
       "      <td>yes</td>\n",
       "      <td>yes</td>\n",
       "      <td>unknown</td>\n",
       "      <td>5</td>\n",
       "      <td>may</td>\n",
       "      <td>76</td>\n",
       "      <td>1</td>\n",
       "      <td>no</td>\n",
       "    </tr>\n",
       "    <tr>\n",
       "      <th>3</th>\n",
       "      <td>47</td>\n",
       "      <td>blue-collar</td>\n",
       "      <td>married</td>\n",
       "      <td>unknown</td>\n",
       "      <td>no</td>\n",
       "      <td>1506</td>\n",
       "      <td>yes</td>\n",
       "      <td>no</td>\n",
       "      <td>unknown</td>\n",
       "      <td>5</td>\n",
       "      <td>may</td>\n",
       "      <td>92</td>\n",
       "      <td>1</td>\n",
       "      <td>no</td>\n",
       "    </tr>\n",
       "    <tr>\n",
       "      <th>4</th>\n",
       "      <td>33</td>\n",
       "      <td>unknown</td>\n",
       "      <td>single</td>\n",
       "      <td>unknown</td>\n",
       "      <td>no</td>\n",
       "      <td>1</td>\n",
       "      <td>no</td>\n",
       "      <td>no</td>\n",
       "      <td>unknown</td>\n",
       "      <td>5</td>\n",
       "      <td>may</td>\n",
       "      <td>198</td>\n",
       "      <td>1</td>\n",
       "      <td>no</td>\n",
       "    </tr>\n",
       "  </tbody>\n",
       "</table>\n",
       "</div>"
      ],
      "text/plain": [
       "   age           job  marital  education default  balance housing loan  \\\n",
       "0   58    management  married   tertiary      no     2143     yes   no   \n",
       "1   44    technician   single  secondary      no       29     yes   no   \n",
       "2   33  entrepreneur  married  secondary      no        2     yes  yes   \n",
       "3   47   blue-collar  married    unknown      no     1506     yes   no   \n",
       "4   33       unknown   single    unknown      no        1      no   no   \n",
       "\n",
       "   contact  day month  duration  campaign   y  \n",
       "0  unknown    5   may       261         1  no  \n",
       "1  unknown    5   may       151         1  no  \n",
       "2  unknown    5   may        76         1  no  \n",
       "3  unknown    5   may        92         1  no  \n",
       "4  unknown    5   may       198         1  no  "
      ]
     },
     "execution_count": 236,
     "metadata": {},
     "output_type": "execute_result"
    }
   ],
   "source": [
    "df.head()"
   ]
  },
  {
   "cell_type": "markdown",
   "id": "4549ddd7",
   "metadata": {},
   "source": [
    "Attributes:\n",
    "\n",
    "* age : age of customer (numeric)\n",
    "\n",
    "* job : type of job (categorical)\n",
    "\n",
    "* marital : marital status (categorical)\n",
    "\n",
    "* education (categorical)\n",
    "\n",
    "* default: has credit in default? (binary)\n",
    "\n",
    "* balance: average yearly balance, in euros (numeric)\n",
    "\n",
    "* housing: has a housing loan? (binary)\n",
    "\n",
    "* loan: has personal loan? (binary)\n",
    "\n",
    "* contact: contact communication type (categorical)\n",
    "\n",
    "* day: last contact day of the month (numeric)\n",
    "\n",
    "* month: last contact month of year (categorical)\n",
    "\n",
    "* duration: last contact duration, in seconds (numeric)\n",
    "\n",
    "* campaign: number of contacts performed during this campaign and for this client (numeric, includes last contact)\n",
    "\n",
    "Output (desired target):\n",
    "\n",
    "* y - has the client subscribed to a term deposit? (binary)"
   ]
  },
  {
   "cell_type": "markdown",
   "id": "463f434a",
   "metadata": {},
   "source": [
    "# Exploratory Data Analysis"
   ]
  },
  {
   "cell_type": "code",
   "execution_count": 237,
   "id": "472c1be4",
   "metadata": {},
   "outputs": [
    {
     "name": "stdout",
     "output_type": "stream",
     "text": [
      "<class 'pandas.core.frame.DataFrame'>\n",
      "RangeIndex: 40000 entries, 0 to 39999\n",
      "Data columns (total 14 columns):\n",
      " #   Column     Non-Null Count  Dtype \n",
      "---  ------     --------------  ----- \n",
      " 0   age        40000 non-null  int64 \n",
      " 1   job        40000 non-null  object\n",
      " 2   marital    40000 non-null  object\n",
      " 3   education  40000 non-null  object\n",
      " 4   default    40000 non-null  object\n",
      " 5   balance    40000 non-null  int64 \n",
      " 6   housing    40000 non-null  object\n",
      " 7   loan       40000 non-null  object\n",
      " 8   contact    40000 non-null  object\n",
      " 9   day        40000 non-null  int64 \n",
      " 10  month      40000 non-null  object\n",
      " 11  duration   40000 non-null  int64 \n",
      " 12  campaign   40000 non-null  int64 \n",
      " 13  y          40000 non-null  object\n",
      "dtypes: int64(5), object(9)\n",
      "memory usage: 4.3+ MB\n"
     ]
    }
   ],
   "source": [
    "df.info()"
   ]
  },
  {
   "cell_type": "markdown",
   "id": "0ed78301",
   "metadata": {},
   "source": [
    "we have numeric and categorical features"
   ]
  },
  {
   "cell_type": "code",
   "execution_count": 238,
   "id": "2cf2247b",
   "metadata": {},
   "outputs": [
    {
     "data": {
      "text/html": [
       "<div>\n",
       "<style scoped>\n",
       "    .dataframe tbody tr th:only-of-type {\n",
       "        vertical-align: middle;\n",
       "    }\n",
       "\n",
       "    .dataframe tbody tr th {\n",
       "        vertical-align: top;\n",
       "    }\n",
       "\n",
       "    .dataframe thead th {\n",
       "        text-align: right;\n",
       "    }\n",
       "</style>\n",
       "<table border=\"1\" class=\"dataframe\">\n",
       "  <thead>\n",
       "    <tr style=\"text-align: right;\">\n",
       "      <th></th>\n",
       "      <th>age</th>\n",
       "      <th>balance</th>\n",
       "      <th>day</th>\n",
       "      <th>duration</th>\n",
       "      <th>campaign</th>\n",
       "    </tr>\n",
       "  </thead>\n",
       "  <tbody>\n",
       "    <tr>\n",
       "      <th>count</th>\n",
       "      <td>40000.00</td>\n",
       "      <td>40000.00</td>\n",
       "      <td>40000.00</td>\n",
       "      <td>40000.00</td>\n",
       "      <td>40000.00</td>\n",
       "    </tr>\n",
       "    <tr>\n",
       "      <th>mean</th>\n",
       "      <td>40.54</td>\n",
       "      <td>1274.28</td>\n",
       "      <td>16.02</td>\n",
       "      <td>254.82</td>\n",
       "      <td>2.88</td>\n",
       "    </tr>\n",
       "    <tr>\n",
       "      <th>std</th>\n",
       "      <td>9.64</td>\n",
       "      <td>2903.77</td>\n",
       "      <td>8.28</td>\n",
       "      <td>259.37</td>\n",
       "      <td>3.24</td>\n",
       "    </tr>\n",
       "    <tr>\n",
       "      <th>min</th>\n",
       "      <td>19.00</td>\n",
       "      <td>-8019.00</td>\n",
       "      <td>1.00</td>\n",
       "      <td>0.00</td>\n",
       "      <td>1.00</td>\n",
       "    </tr>\n",
       "    <tr>\n",
       "      <th>25%</th>\n",
       "      <td>33.00</td>\n",
       "      <td>54.00</td>\n",
       "      <td>8.00</td>\n",
       "      <td>100.00</td>\n",
       "      <td>1.00</td>\n",
       "    </tr>\n",
       "    <tr>\n",
       "      <th>50%</th>\n",
       "      <td>39.00</td>\n",
       "      <td>407.00</td>\n",
       "      <td>17.00</td>\n",
       "      <td>175.00</td>\n",
       "      <td>2.00</td>\n",
       "    </tr>\n",
       "    <tr>\n",
       "      <th>75%</th>\n",
       "      <td>48.00</td>\n",
       "      <td>1319.00</td>\n",
       "      <td>21.00</td>\n",
       "      <td>313.00</td>\n",
       "      <td>3.00</td>\n",
       "    </tr>\n",
       "    <tr>\n",
       "      <th>max</th>\n",
       "      <td>95.00</td>\n",
       "      <td>102127.00</td>\n",
       "      <td>31.00</td>\n",
       "      <td>4918.00</td>\n",
       "      <td>63.00</td>\n",
       "    </tr>\n",
       "  </tbody>\n",
       "</table>\n",
       "</div>"
      ],
      "text/plain": [
       "           age   balance      day  duration  campaign\n",
       "count 40000.00  40000.00 40000.00  40000.00  40000.00\n",
       "mean     40.54   1274.28    16.02    254.82      2.88\n",
       "std       9.64   2903.77     8.28    259.37      3.24\n",
       "min      19.00  -8019.00     1.00      0.00      1.00\n",
       "25%      33.00     54.00     8.00    100.00      1.00\n",
       "50%      39.00    407.00    17.00    175.00      2.00\n",
       "75%      48.00   1319.00    21.00    313.00      3.00\n",
       "max      95.00 102127.00    31.00   4918.00     63.00"
      ]
     },
     "execution_count": 238,
     "metadata": {},
     "output_type": "execute_result"
    }
   ],
   "source": [
    "df.describe()"
   ]
  },
  {
   "cell_type": "markdown",
   "id": "cb38c63a",
   "metadata": {},
   "source": [
    "Correlation map"
   ]
  },
  {
   "cell_type": "code",
   "execution_count": 239,
   "id": "7607d633",
   "metadata": {},
   "outputs": [],
   "source": [
    "# plt.figure(figsize=(16, 6))\n",
    "# heatmap = sns.heatmap(df.corr(), vmin=-1, vmax=1, annot=True, cmap='BrBG')\n",
    "# heatmap.set_title('Correlation Heatmap', fontdict={'fontsize':18}, pad=12);\n",
    "# plt.savefig('heatmap.png', dpi=300, bbox_inches='tight')"
   ]
  },
  {
   "cell_type": "markdown",
   "id": "ab5d5f8d",
   "metadata": {},
   "source": [
    "## Missing data\n",
    "Let's check if there is are missing data"
   ]
  },
  {
   "cell_type": "code",
   "execution_count": 240,
   "id": "a494c658",
   "metadata": {},
   "outputs": [
    {
     "data": {
      "text/plain": [
       "age          0\n",
       "job          0\n",
       "marital      0\n",
       "education    0\n",
       "default      0\n",
       "balance      0\n",
       "housing      0\n",
       "loan         0\n",
       "contact      0\n",
       "day          0\n",
       "month        0\n",
       "duration     0\n",
       "campaign     0\n",
       "y            0\n",
       "dtype: int64"
      ]
     },
     "execution_count": 240,
     "metadata": {},
     "output_type": "execute_result"
    }
   ],
   "source": [
    "df.isnull().sum()"
   ]
  },
  {
   "cell_type": "markdown",
   "id": "4c8ac483",
   "metadata": {},
   "source": [
    "we have no missing values"
   ]
  },
  {
   "cell_type": "markdown",
   "id": "bf29fb23",
   "metadata": {},
   "source": [
    "## Examine classes and class imbalance\n",
    "We are looking for features that help separate the target categories"
   ]
  },
  {
   "cell_type": "code",
   "execution_count": 241,
   "id": "318fcf83",
   "metadata": {},
   "outputs": [
    {
     "data": {
      "text/plain": [
       "<AxesSubplot:xlabel='y', ylabel='count'>"
      ]
     },
     "execution_count": 241,
     "metadata": {},
     "output_type": "execute_result"
    },
    {
     "data": {
      "image/png": "[encoded data removed]",
      "text/plain": [
       "<Figure size 432x288 with 1 Axes>"
      ]
     },
     "metadata": {
      "needs_background": "light"
     },
     "output_type": "display_data"
    }
   ],
   "source": [
    "sns.countplot(x='y',data=df)"
   ]
  },
  {
   "cell_type": "code",
   "execution_count": 242,
   "id": "a2ff5d2d",
   "metadata": {},
   "outputs": [],
   "source": [
    "df_percentage = pd.DataFrame(df.y.value_counts())"
   ]
  },
  {
   "cell_type": "code",
   "execution_count": 243,
   "id": "b7094479",
   "metadata": {},
   "outputs": [],
   "source": [
    "df_percentage['Percentage (%)'] = (df_percentage['y']/df_percentage['y'].sum())*100"
   ]
  },
  {
   "cell_type": "code",
   "execution_count": 244,
   "id": "4f18850e",
   "metadata": {},
   "outputs": [
    {
     "data": {
      "text/html": [
       "<div>\n",
       "<style scoped>\n",
       "    .dataframe tbody tr th:only-of-type {\n",
       "        vertical-align: middle;\n",
       "    }\n",
       "\n",
       "    .dataframe tbody tr th {\n",
       "        vertical-align: top;\n",
       "    }\n",
       "\n",
       "    .dataframe thead th {\n",
       "        text-align: right;\n",
       "    }\n",
       "</style>\n",
       "<table border=\"1\" class=\"dataframe\">\n",
       "  <thead>\n",
       "    <tr style=\"text-align: right;\">\n",
       "      <th></th>\n",
       "      <th>y</th>\n",
       "      <th>Percentage (%)</th>\n",
       "    </tr>\n",
       "  </thead>\n",
       "  <tbody>\n",
       "    <tr>\n",
       "      <th>no</th>\n",
       "      <td>37104</td>\n",
       "      <td>92.76</td>\n",
       "    </tr>\n",
       "    <tr>\n",
       "      <th>yes</th>\n",
       "      <td>2896</td>\n",
       "      <td>7.24</td>\n",
       "    </tr>\n",
       "  </tbody>\n",
       "</table>\n",
       "</div>"
      ],
      "text/plain": [
       "         y  Percentage (%)\n",
       "no   37104           92.76\n",
       "yes   2896            7.24"
      ]
     },
     "execution_count": 244,
     "metadata": {},
     "output_type": "execute_result"
    }
   ],
   "source": [
    "df_percentage"
   ]
  },
  {
   "cell_type": "markdown",
   "id": "e02ef51d",
   "metadata": {},
   "source": [
    "We have very unbalanced data here with only about 7% in the positive class (i.e. subscription of client to a deposit). We will have to deal with this when training data to assess the performance of the model. This can be done by undersampling,oversampling, adjusting class weights in models, or possibly look at more than one of these to get the best result. We also need to chose adequate performance metric (like F-score that combine precision-recall or ranking metric such as ROC AUC).`"
   ]
  },
  {
   "cell_type": "markdown",
   "id": "bdc3d844",
   "metadata": {},
   "source": [
    "### Visualize class separation by numeric features\n",
    "* We visualize to understand which numeric features (age, balance, campaign, et day) are useful for class separation."
   ]
  },
  {
   "cell_type": "code",
   "execution_count": 245,
   "id": "628a2a94",
   "metadata": {},
   "outputs": [
    {
     "data": {
      "text/plain": [
       "Index(['age', 'job', 'marital', 'education', 'default', 'balance', 'housing',\n",
       "       'loan', 'contact', 'day', 'month', 'duration', 'campaign', 'y'],\n",
       "      dtype='object')"
      ]
     },
     "execution_count": 245,
     "metadata": {},
     "output_type": "execute_result"
    }
   ],
   "source": [
    "df.columns"
   ]
  },
  {
   "cell_type": "code",
   "execution_count": 246,
   "id": "9881a45c",
   "metadata": {},
   "outputs": [],
   "source": [
    "cols_numeric=['age','balance','day','duration', 'campaign']"
   ]
  },
  {
   "cell_type": "code",
   "execution_count": 247,
   "id": "a261dc4c",
   "metadata": {},
   "outputs": [
    {
     "data": {
      "image/png": "[encoded data removed]",
      "text/plain": [
       "<Figure size 432x288 with 1 Axes>"
      ]
     },
     "metadata": {},
     "output_type": "display_data"
    },
    {
     "data": {
      "image/png": "[encoded data removed]",
      "text/plain": [
       "<Figure size 432x288 with 1 Axes>"
      ]
     },
     "metadata": {},
     "output_type": "display_data"
    },
    {
     "data": {
      "image/png": "[encoded data removed]",
      "text/plain": [
       "<Figure size 432x288 with 1 Axes>"
      ]
     },
     "metadata": {},
     "output_type": "display_data"
    },
    {
     "data": {
      "image/png": "[encoded data removed]",
      "text/plain": [
       "<Figure size 432x288 with 1 Axes>"
      ]
     },
     "metadata": {},
     "output_type": "display_data"
    },
    {
     "data": {
      "image/png": "[encoded data removed]",
      "text/plain": [
       "<Figure size 432x288 with 1 Axes>"
      ]
     },
     "metadata": {},
     "output_type": "display_data"
    }
   ],
   "source": [
    "def plot_boxplot(df, cols, col_x = 'y'):\n",
    "    for col in cols:\n",
    "        sns.set_style(\"whitegrid\")\n",
    "        sns.boxplot(y=col, x=col_x, data=df)\n",
    "        plt.show()\n",
    "\n",
    "plot_boxplot(df, cols_numeric, col_x = 'y')"
   ]
  },
  {
   "cell_type": "markdown",
   "id": "09c2fb75",
   "metadata": {},
   "source": [
    "* For age and duration, there seems to be a useful separation between yes and no subscription of the client to the term deposit\n",
    "* On the other hands, balance, campaign, and day does not seem to matter"
   ]
  },
  {
   "cell_type": "code",
   "execution_count": 248,
   "id": "4719c6bc",
   "metadata": {},
   "outputs": [
    {
     "data": {
      "image/png": "[encoded data removed]",
      "text/plain": [
       "<Figure size 432x288 with 1 Axes>"
      ]
     },
     "metadata": {},
     "output_type": "display_data"
    },
    {
     "data": {
      "image/png": "[encoded data removed]",
      "text/plain": [
       "<Figure size 432x288 with 1 Axes>"
      ]
     },
     "metadata": {},
     "output_type": "display_data"
    },
    {
     "data": {
      "image/png": "[encoded data removed]",
      "text/plain": [
       "<Figure size 432x288 with 1 Axes>"
      ]
     },
     "metadata": {},
     "output_type": "display_data"
    },
    {
     "data": {
      "image/png": "[encoded data removed]",
      "text/plain": [
       "<Figure size 432x288 with 1 Axes>"
      ]
     },
     "metadata": {},
     "output_type": "display_data"
    },
    {
     "data": {
      "image/png": "[encoded data removed]",
      "text/plain": [
       "<Figure size 432x288 with 1 Axes>"
      ]
     },
     "metadata": {},
     "output_type": "display_data"
    }
   ],
   "source": [
    "def plot_violin(df, cols, col_x = 'y'):\n",
    "    for col in cols:\n",
    "        sns.set_style(\"whitegrid\")\n",
    "        sns.violinplot(y=col, x=col_x, data=df)\n",
    "        plt.show()\n",
    "\n",
    "plot_violin(df, cols_numeric, col_x = 'y')"
   ]
  },
  {
   "cell_type": "code",
   "execution_count": 249,
   "id": "151d180c",
   "metadata": {},
   "outputs": [],
   "source": [
    "cols_cate= ['job', 'marital', 'education', 'default','housing',\n",
    "       'loan', 'contact', 'month']\n",
    "# cols_cate= ['job', 'marital', 'education', 'default','housing',\n",
    "#        'loan', 'contact']"
   ]
  },
  {
   "cell_type": "code",
   "execution_count": 250,
   "id": "90833647",
   "metadata": {
    "scrolled": false
   },
   "outputs": [
    {
     "data": {
      "image/png": "[encoded data removed]",
      "text/plain": [
       "<Figure size 432x288 with 1 Axes>"
      ]
     },
     "metadata": {},
     "output_type": "display_data"
    },
    {
     "data": {
      "image/png": "[encoded data removed]",
      "text/plain": [
       "<Figure size 432x288 with 1 Axes>"
      ]
     },
     "metadata": {},
     "output_type": "display_data"
    },
    {
     "data": {
      "image/png": "[encoded data removed]",
      "text/plain": [
       "<Figure size 432x288 with 1 Axes>"
      ]
     },
     "metadata": {},
     "output_type": "display_data"
    },
    {
     "data": {
      "image/png": "[encoded data removed]",
      "text/plain": [
       "<Figure size 432x288 with 1 Axes>"
      ]
     },
     "metadata": {},
     "output_type": "display_data"
    },
    {
     "data": {
      "image/png": "[encoded data removed]",
      "text/plain": [
       "<Figure size 432x288 with 1 Axes>"
      ]
     },
     "metadata": {},
     "output_type": "display_data"
    },
    {
     "data": {
      "image/png": "[encoded data removed]",
      "text/plain": [
       "<Figure size 432x288 with 1 Axes>"
      ]
     },
     "metadata": {},
     "output_type": "display_data"
    },
    {
     "data": {
      "image/png": "[encoded data removed]",
      "text/plain": [
       "<Figure size 432x288 with 1 Axes>"
      ]
     },
     "metadata": {},
     "output_type": "display_data"
    },
    {
     "data": {
      "image/png": "[encoded data removed]",
      "text/plain": [
       "<Figure size 432x288 with 1 Axes>"
      ]
     },
     "metadata": {},
     "output_type": "display_data"
    }
   ],
   "source": [
    "def plot_bar(df, cols, col_x = 'y'):\n",
    "    for col in cols:\n",
    "        sns.set_style(\"whitegrid\")\n",
    "        sns.countplot(x=col_x,hue=col,data=df,palette='RdBu_r')\n",
    "        plt.show()\n",
    "\n",
    "plot_bar(df, cols_cate, col_x = 'y')"
   ]
  },
  {
   "cell_type": "markdown",
   "id": "18635a40",
   "metadata": {},
   "source": [
    "* Other most features have a dominant category (i.e. negative class) with very few cases of other category. It hard to say which category is has a high or little power to separate the cases."
   ]
  },
  {
   "cell_type": "markdown",
   "id": "91fae62a",
   "metadata": {},
   "source": [
    "## Check Multicollinearity for numerical  and the target features\n",
    "\n",
    "* Ho (null hypothesis): There is no difference between the numerical feature and the target feature\n",
    "* H1 (alternative hypothesis): There is difference between the numerical feature and the target feature\n",
    "* confidence interval : 95%\n",
    "* anova test is appropriate here (we have a numerical and categorical feauture)"
   ]
  },
  {
   "cell_type": "code",
   "execution_count": 251,
   "id": "b39063c9",
   "metadata": {},
   "outputs": [],
   "source": [
    "import scipy.stats as stats\n"
   ]
  },
  {
   "cell_type": "code",
   "execution_count": 252,
   "id": "1f579b25",
   "metadata": {},
   "outputs": [
    {
     "data": {
      "text/html": [
       "<div>\n",
       "<style scoped>\n",
       "    .dataframe tbody tr th:only-of-type {\n",
       "        vertical-align: middle;\n",
       "    }\n",
       "\n",
       "    .dataframe tbody tr th {\n",
       "        vertical-align: top;\n",
       "    }\n",
       "\n",
       "    .dataframe thead th {\n",
       "        text-align: right;\n",
       "    }\n",
       "</style>\n",
       "<table border=\"1\" class=\"dataframe\">\n",
       "  <thead>\n",
       "    <tr style=\"text-align: right;\">\n",
       "      <th></th>\n",
       "      <th>Column</th>\n",
       "      <th>Hypothesis_Result</th>\n",
       "    </tr>\n",
       "  </thead>\n",
       "  <tbody>\n",
       "    <tr>\n",
       "      <th>0</th>\n",
       "      <td>age</td>\n",
       "      <td>reject null hypothesis</td>\n",
       "    </tr>\n",
       "    <tr>\n",
       "      <th>1</th>\n",
       "      <td>balance</td>\n",
       "      <td>reject null hypothesis</td>\n",
       "    </tr>\n",
       "    <tr>\n",
       "      <th>2</th>\n",
       "      <td>day</td>\n",
       "      <td>Fail to Reject Null Hypothesis</td>\n",
       "    </tr>\n",
       "    <tr>\n",
       "      <th>3</th>\n",
       "      <td>duration</td>\n",
       "      <td>reject null hypothesis</td>\n",
       "    </tr>\n",
       "    <tr>\n",
       "      <th>4</th>\n",
       "      <td>campaign</td>\n",
       "      <td>reject null hypothesis</td>\n",
       "    </tr>\n",
       "  </tbody>\n",
       "</table>\n",
       "</div>"
      ],
      "text/plain": [
       "     Column               Hypothesis_Result\n",
       "0       age          reject null hypothesis\n",
       "1   balance          reject null hypothesis\n",
       "2       day  Fail to Reject Null Hypothesis\n",
       "3  duration          reject null hypothesis\n",
       "4  campaign          reject null hypothesis"
      ]
     },
     "execution_count": 252,
     "metadata": {},
     "output_type": "execute_result"
    }
   ],
   "source": [
    "anova_test=[]\n",
    "for feature in cols_numeric: \n",
    "    df_anova = df[['y',feature]]\n",
    "    grps = pd.unique(df_anova.y.values)\n",
    "    # grps\n",
    "    d_data = {grp:df_anova[feature][df_anova.y == grp] for grp in grps}\n",
    "    # d_data\n",
    "    F, p = stats.f_oneway(d_data['no'], d_data['yes'])\n",
    "#     print(p)\n",
    "    if p<0.05:\n",
    "#         print(\"reject null hypothesis\")\n",
    "        anova_test.append(\"reject null hypothesis\")\n",
    "    else:\n",
    "#         print(\"Fail to Reject Null Hypothesis\")\n",
    "        anova_test.append(\"Fail to Reject Null Hypothesis\")\n",
    "result1 = pd.DataFrame(data=[cols_numeric,anova_test]).T\n",
    "result1.columns = ['Column','Hypothesis_Result']\n",
    "result1"
   ]
  },
  {
   "cell_type": "markdown",
   "id": "0c8f0835",
   "metadata": {},
   "source": [
    "## Check Multicollinearity for Categorical features\n",
    "\n",
    "* Ho (null hypothesis): There is no difference between the categorical feature and the target\n",
    "* H1 (alternative hypothesis): There is difference between categorical feature and the target\n",
    "* confidence interval : 95%\n",
    "* chi2 test is appropriate here"
   ]
  },
  {
   "cell_type": "code",
   "execution_count": 253,
   "id": "11ed515e",
   "metadata": {},
   "outputs": [
    {
     "data": {
      "text/html": [
       "<div>\n",
       "<style scoped>\n",
       "    .dataframe tbody tr th:only-of-type {\n",
       "        vertical-align: middle;\n",
       "    }\n",
       "\n",
       "    .dataframe tbody tr th {\n",
       "        vertical-align: top;\n",
       "    }\n",
       "\n",
       "    .dataframe thead th {\n",
       "        text-align: right;\n",
       "    }\n",
       "</style>\n",
       "<table border=\"1\" class=\"dataframe\">\n",
       "  <thead>\n",
       "    <tr style=\"text-align: right;\">\n",
       "      <th></th>\n",
       "      <th>Column</th>\n",
       "      <th>Hypothesis Result</th>\n",
       "    </tr>\n",
       "  </thead>\n",
       "  <tbody>\n",
       "    <tr>\n",
       "      <th>0</th>\n",
       "      <td>job</td>\n",
       "      <td>Reject Null Hypothesis</td>\n",
       "    </tr>\n",
       "    <tr>\n",
       "      <th>1</th>\n",
       "      <td>marital</td>\n",
       "      <td>Reject Null Hypothesis</td>\n",
       "    </tr>\n",
       "    <tr>\n",
       "      <th>2</th>\n",
       "      <td>education</td>\n",
       "      <td>Reject Null Hypothesis</td>\n",
       "    </tr>\n",
       "    <tr>\n",
       "      <th>3</th>\n",
       "      <td>default</td>\n",
       "      <td>Fail to Reject Null Hypothesis</td>\n",
       "    </tr>\n",
       "    <tr>\n",
       "      <th>4</th>\n",
       "      <td>housing</td>\n",
       "      <td>Reject Null Hypothesis</td>\n",
       "    </tr>\n",
       "    <tr>\n",
       "      <th>5</th>\n",
       "      <td>loan</td>\n",
       "      <td>Reject Null Hypothesis</td>\n",
       "    </tr>\n",
       "    <tr>\n",
       "      <th>6</th>\n",
       "      <td>contact</td>\n",
       "      <td>Reject Null Hypothesis</td>\n",
       "    </tr>\n",
       "    <tr>\n",
       "      <th>7</th>\n",
       "      <td>month</td>\n",
       "      <td>Reject Null Hypothesis</td>\n",
       "    </tr>\n",
       "  </tbody>\n",
       "</table>\n",
       "</div>"
      ],
      "text/plain": [
       "      Column               Hypothesis Result\n",
       "0        job          Reject Null Hypothesis\n",
       "1    marital          Reject Null Hypothesis\n",
       "2  education          Reject Null Hypothesis\n",
       "3    default  Fail to Reject Null Hypothesis\n",
       "4    housing          Reject Null Hypothesis\n",
       "5       loan          Reject Null Hypothesis\n",
       "6    contact          Reject Null Hypothesis\n",
       "7      month          Reject Null Hypothesis"
      ]
     },
     "execution_count": 253,
     "metadata": {},
     "output_type": "execute_result"
    }
   ],
   "source": [
    "from scipy.stats import chi2_contingency\n",
    "chi2_test = []\n",
    "for feature in cols_cate:\n",
    "    if chi2_contingency(pd.crosstab(df['y'], df[feature]))[1] < 0.05:\n",
    "        chi2_test.append('Reject Null Hypothesis')\n",
    "    else:\n",
    "        chi2_test.append('Fail to Reject Null Hypothesis')\n",
    "result = pd.DataFrame(data=[cols_cate, chi2_test]).T\n",
    "result.columns = ['Column', 'Hypothesis Result']\n",
    "result"
   ]
  },
  {
   "cell_type": "markdown",
   "id": "ee00139d",
   "metadata": {},
   "source": [
    "The significance test show that day and default features are not significantly related to the traget variable (subscription to term deposit). Therefore we will drop these features. We will also remove the date feature \"month\"."
   ]
  },
  {
   "cell_type": "code",
   "execution_count": 254,
   "id": "274a92a0",
   "metadata": {},
   "outputs": [
    {
     "data": {
      "text/plain": [
       "Index(['age', 'job', 'marital', 'education', 'balance', 'housing', 'loan',\n",
       "       'contact', 'duration', 'campaign', 'y'],\n",
       "      dtype='object')"
      ]
     },
     "execution_count": 254,
     "metadata": {},
     "output_type": "execute_result"
    }
   ],
   "source": [
    "df.drop([\"day\",\"default\",\"month\"],axis=1,inplace=True)\n",
    "df.columns"
   ]
  },
  {
   "cell_type": "markdown",
   "id": "b64957e4",
   "metadata": {},
   "source": [
    "## Remove outliers with z-score"
   ]
  },
  {
   "cell_type": "code",
   "execution_count": 255,
   "id": "ffaa7d93",
   "metadata": {},
   "outputs": [],
   "source": [
    "cols_numeric1=['age','balance','duration', 'campaign']"
   ]
  },
  {
   "cell_type": "code",
   "execution_count": 256,
   "id": "6ca63502",
   "metadata": {},
   "outputs": [],
   "source": [
    "#remove outliers with z-score method\n",
    "z = np.abs(stats.zscore(df.select_dtypes('int64')))\n",
    "df= df[(abs(z) < 3).all(axis=1)]"
   ]
  },
  {
   "cell_type": "markdown",
   "id": "16e84129",
   "metadata": {},
   "source": [
    "Visualization after removing outliers"
   ]
  },
  {
   "cell_type": "code",
   "execution_count": 257,
   "id": "d460f20b",
   "metadata": {},
   "outputs": [
    {
     "data": {
      "image/png": "[encoded data removed]",
      "text/plain": [
       "<Figure size 432x288 with 1 Axes>"
      ]
     },
     "metadata": {},
     "output_type": "display_data"
    },
    {
     "data": {
      "image/png": "[encoded data removed]",
      "text/plain": [
       "<Figure size 432x288 with 1 Axes>"
      ]
     },
     "metadata": {},
     "output_type": "display_data"
    },
    {
     "data": {
      "image/png": "[encoded data removed]",
      "text/plain": [
       "<Figure size 432x288 with 1 Axes>"
      ]
     },
     "metadata": {},
     "output_type": "display_data"
    },
    {
     "data": {
      "image/png": "[encoded data removed]",
      "text/plain": [
       "<Figure size 432x288 with 1 Axes>"
      ]
     },
     "metadata": {},
     "output_type": "display_data"
    }
   ],
   "source": [
    "def plot_violin(df, cols, col_x = 'y'):\n",
    "    for col in cols:\n",
    "        sns.set_style(\"whitegrid\")\n",
    "        sns.violinplot(y=col, x=col_x, data=df)\n",
    "        plt.show()\n",
    "\n",
    "plot_violin(df, cols_numeric1, col_x = 'y')"
   ]
  },
  {
   "cell_type": "markdown",
   "id": "e69f547a",
   "metadata": {},
   "source": [
    "## Treating categorical variables"
   ]
  },
  {
   "cell_type": "markdown",
   "id": "ddc07075",
   "metadata": {},
   "source": [
    "Check the need for aggregation of some categories"
   ]
  },
  {
   "cell_type": "code",
   "execution_count": 258,
   "id": "d7400c69",
   "metadata": {},
   "outputs": [
    {
     "data": {
      "text/plain": [
       "Index(['age', 'job', 'marital', 'education', 'balance', 'housing', 'loan',\n",
       "       'contact', 'duration', 'campaign', 'y'],\n",
       "      dtype='object')"
      ]
     },
     "execution_count": 258,
     "metadata": {},
     "output_type": "execute_result"
    }
   ],
   "source": [
    "df.columns"
   ]
  },
  {
   "cell_type": "code",
   "execution_count": 259,
   "id": "c4abb227",
   "metadata": {},
   "outputs": [],
   "source": [
    "cols_cate1= ['job', 'marital', 'education','housing',\n",
    "       'loan', 'contact']\n",
    "# cols_cate1= ['job', 'marital', 'education','housing',\n",
    "#        'loan', 'contact', 'month']"
   ]
  },
  {
   "cell_type": "code",
   "execution_count": 260,
   "id": "f588816c",
   "metadata": {},
   "outputs": [
    {
     "name": "stdout",
     "output_type": "stream",
     "text": [
      "feature name: job \n",
      " blue-collar      8905\n",
      "management       7558\n",
      "technician       6441\n",
      "admin            4266\n",
      "services         3725\n",
      "entrepreneur     1322\n",
      "self-employed    1301\n",
      "retired          1294\n",
      "unemployed       1045\n",
      "housemaid        1013\n",
      "student           499\n",
      "unknown           214\n",
      "Name: job, dtype: int64\n",
      "feature name: marital \n",
      " married     22899\n",
      "single      10219\n",
      "divorced     4465\n",
      "Name: marital, dtype: int64\n",
      "feature name: education \n",
      " secondary    19895\n",
      "tertiary     10339\n",
      "primary       5929\n",
      "unknown       1420\n",
      "Name: education, dtype: int64\n",
      "feature name: housing \n",
      " yes    22754\n",
      "no     14829\n",
      "Name: housing, dtype: int64\n",
      "feature name: loan \n",
      " no     30993\n",
      "yes     6590\n",
      "Name: loan, dtype: int64\n",
      "feature name: contact \n",
      " cellular     23430\n",
      "unknown      12048\n",
      "telephone     2105\n",
      "Name: contact, dtype: int64\n"
     ]
    }
   ],
   "source": [
    "for col in cols_cate1:\n",
    "    print(\"feature name:\",col,'\\n',df[col].value_counts())"
   ]
  },
  {
   "cell_type": "markdown",
   "id": "2963853a",
   "metadata": {},
   "source": [
    "investigation of investigated show that each category seems to have sufficient samples."
   ]
  },
  {
   "cell_type": "markdown",
   "id": "9f1e600f",
   "metadata": {},
   "source": [
    "Convert Yes and No to 1 or 0"
   ]
  },
  {
   "cell_type": "code",
   "execution_count": 261,
   "id": "17aaf81d",
   "metadata": {},
   "outputs": [],
   "source": [
    "yes_no_columns =['housing','y','loan']"
   ]
  },
  {
   "cell_type": "code",
   "execution_count": 262,
   "id": "f20e7b8f",
   "metadata": {},
   "outputs": [],
   "source": [
    "for col in yes_no_columns:\n",
    "    df[col].replace({'yes': 1,'no': 0},inplace=True)"
   ]
  },
  {
   "cell_type": "code",
   "execution_count": 263,
   "id": "75ca1528",
   "metadata": {},
   "outputs": [
    {
     "name": "stdout",
     "output_type": "stream",
     "text": [
      "feature name: housing \n",
      " [1 0]\n",
      "feature name: y \n",
      " [0 1]\n",
      "feature name: loan \n",
      " [0 1]\n"
     ]
    }
   ],
   "source": [
    "for col in yes_no_columns:\n",
    "    print(\"feature name:\",col,'\\n',df[col].unique())"
   ]
  },
  {
   "cell_type": "markdown",
   "id": "f0d47d4d",
   "metadata": {},
   "source": [
    "One hot encoding for categorical columns"
   ]
  },
  {
   "cell_type": "code",
   "execution_count": 264,
   "id": "51d37cb4",
   "metadata": {},
   "outputs": [],
   "source": [
    "# cols_for_ohe=['job','marital','contact','month','education']\n",
    "cols_for_ohe=['job','marital','contact','education']"
   ]
  },
  {
   "cell_type": "code",
   "execution_count": 265,
   "id": "f6419312",
   "metadata": {},
   "outputs": [
    {
     "data": {
      "text/plain": [
       "Index(['age', 'balance', 'housing', 'loan', 'duration', 'campaign', 'y',\n",
       "       'job_admin', 'job_blue-collar', 'job_entrepreneur', 'job_housemaid',\n",
       "       'job_management', 'job_retired', 'job_self-employed', 'job_services',\n",
       "       'job_student', 'job_technician', 'job_unemployed', 'job_unknown',\n",
       "       'marital_divorced', 'marital_married', 'marital_single',\n",
       "       'contact_cellular', 'contact_telephone', 'contact_unknown',\n",
       "       'education_primary', 'education_secondary', 'education_tertiary',\n",
       "       'education_unknown'],\n",
       "      dtype='object')"
      ]
     },
     "execution_count": 265,
     "metadata": {},
     "output_type": "execute_result"
    }
   ],
   "source": [
    "df = pd.get_dummies(data=df, columns=cols_for_ohe)\n",
    "df.columns"
   ]
  },
  {
   "cell_type": "code",
   "execution_count": 266,
   "id": "c506260a",
   "metadata": {},
   "outputs": [
    {
     "data": {
      "text/html": [
       "<div>\n",
       "<style scoped>\n",
       "    .dataframe tbody tr th:only-of-type {\n",
       "        vertical-align: middle;\n",
       "    }\n",
       "\n",
       "    .dataframe tbody tr th {\n",
       "        vertical-align: top;\n",
       "    }\n",
       "\n",
       "    .dataframe thead th {\n",
       "        text-align: right;\n",
       "    }\n",
       "</style>\n",
       "<table border=\"1\" class=\"dataframe\">\n",
       "  <thead>\n",
       "    <tr style=\"text-align: right;\">\n",
       "      <th></th>\n",
       "      <th>age</th>\n",
       "      <th>balance</th>\n",
       "      <th>housing</th>\n",
       "      <th>loan</th>\n",
       "      <th>duration</th>\n",
       "      <th>campaign</th>\n",
       "      <th>y</th>\n",
       "      <th>job_admin</th>\n",
       "      <th>job_blue-collar</th>\n",
       "      <th>job_entrepreneur</th>\n",
       "      <th>...</th>\n",
       "      <th>marital_divorced</th>\n",
       "      <th>marital_married</th>\n",
       "      <th>marital_single</th>\n",
       "      <th>contact_cellular</th>\n",
       "      <th>contact_telephone</th>\n",
       "      <th>contact_unknown</th>\n",
       "      <th>education_primary</th>\n",
       "      <th>education_secondary</th>\n",
       "      <th>education_tertiary</th>\n",
       "      <th>education_unknown</th>\n",
       "    </tr>\n",
       "  </thead>\n",
       "  <tbody>\n",
       "    <tr>\n",
       "      <th>0</th>\n",
       "      <td>58</td>\n",
       "      <td>2143</td>\n",
       "      <td>1</td>\n",
       "      <td>0</td>\n",
       "      <td>261</td>\n",
       "      <td>1</td>\n",
       "      <td>0</td>\n",
       "      <td>0</td>\n",
       "      <td>0</td>\n",
       "      <td>0</td>\n",
       "      <td>...</td>\n",
       "      <td>0</td>\n",
       "      <td>1</td>\n",
       "      <td>0</td>\n",
       "      <td>0</td>\n",
       "      <td>0</td>\n",
       "      <td>1</td>\n",
       "      <td>0</td>\n",
       "      <td>0</td>\n",
       "      <td>1</td>\n",
       "      <td>0</td>\n",
       "    </tr>\n",
       "    <tr>\n",
       "      <th>1</th>\n",
       "      <td>44</td>\n",
       "      <td>29</td>\n",
       "      <td>1</td>\n",
       "      <td>0</td>\n",
       "      <td>151</td>\n",
       "      <td>1</td>\n",
       "      <td>0</td>\n",
       "      <td>0</td>\n",
       "      <td>0</td>\n",
       "      <td>0</td>\n",
       "      <td>...</td>\n",
       "      <td>0</td>\n",
       "      <td>0</td>\n",
       "      <td>1</td>\n",
       "      <td>0</td>\n",
       "      <td>0</td>\n",
       "      <td>1</td>\n",
       "      <td>0</td>\n",
       "      <td>1</td>\n",
       "      <td>0</td>\n",
       "      <td>0</td>\n",
       "    </tr>\n",
       "    <tr>\n",
       "      <th>2</th>\n",
       "      <td>33</td>\n",
       "      <td>2</td>\n",
       "      <td>1</td>\n",
       "      <td>1</td>\n",
       "      <td>76</td>\n",
       "      <td>1</td>\n",
       "      <td>0</td>\n",
       "      <td>0</td>\n",
       "      <td>0</td>\n",
       "      <td>1</td>\n",
       "      <td>...</td>\n",
       "      <td>0</td>\n",
       "      <td>1</td>\n",
       "      <td>0</td>\n",
       "      <td>0</td>\n",
       "      <td>0</td>\n",
       "      <td>1</td>\n",
       "      <td>0</td>\n",
       "      <td>1</td>\n",
       "      <td>0</td>\n",
       "      <td>0</td>\n",
       "    </tr>\n",
       "    <tr>\n",
       "      <th>3</th>\n",
       "      <td>47</td>\n",
       "      <td>1506</td>\n",
       "      <td>1</td>\n",
       "      <td>0</td>\n",
       "      <td>92</td>\n",
       "      <td>1</td>\n",
       "      <td>0</td>\n",
       "      <td>0</td>\n",
       "      <td>1</td>\n",
       "      <td>0</td>\n",
       "      <td>...</td>\n",
       "      <td>0</td>\n",
       "      <td>1</td>\n",
       "      <td>0</td>\n",
       "      <td>0</td>\n",
       "      <td>0</td>\n",
       "      <td>1</td>\n",
       "      <td>0</td>\n",
       "      <td>0</td>\n",
       "      <td>0</td>\n",
       "      <td>1</td>\n",
       "    </tr>\n",
       "    <tr>\n",
       "      <th>4</th>\n",
       "      <td>33</td>\n",
       "      <td>1</td>\n",
       "      <td>0</td>\n",
       "      <td>0</td>\n",
       "      <td>198</td>\n",
       "      <td>1</td>\n",
       "      <td>0</td>\n",
       "      <td>0</td>\n",
       "      <td>0</td>\n",
       "      <td>0</td>\n",
       "      <td>...</td>\n",
       "      <td>0</td>\n",
       "      <td>0</td>\n",
       "      <td>1</td>\n",
       "      <td>0</td>\n",
       "      <td>0</td>\n",
       "      <td>1</td>\n",
       "      <td>0</td>\n",
       "      <td>0</td>\n",
       "      <td>0</td>\n",
       "      <td>1</td>\n",
       "    </tr>\n",
       "  </tbody>\n",
       "</table>\n",
       "<p>5 rows × 29 columns</p>\n",
       "</div>"
      ],
      "text/plain": [
       "   age  balance  housing  loan  duration  campaign  y  job_admin  \\\n",
       "0   58     2143        1     0       261         1  0          0   \n",
       "1   44       29        1     0       151         1  0          0   \n",
       "2   33        2        1     1        76         1  0          0   \n",
       "3   47     1506        1     0        92         1  0          0   \n",
       "4   33        1        0     0       198         1  0          0   \n",
       "\n",
       "   job_blue-collar  job_entrepreneur  ...  marital_divorced  marital_married  \\\n",
       "0                0                 0  ...                 0                1   \n",
       "1                0                 0  ...                 0                0   \n",
       "2                0                 1  ...                 0                1   \n",
       "3                1                 0  ...                 0                1   \n",
       "4                0                 0  ...                 0                0   \n",
       "\n",
       "   marital_single  contact_cellular  contact_telephone  contact_unknown  \\\n",
       "0               0                 0                  0                1   \n",
       "1               1                 0                  0                1   \n",
       "2               0                 0                  0                1   \n",
       "3               0                 0                  0                1   \n",
       "4               1                 0                  0                1   \n",
       "\n",
       "   education_primary  education_secondary  education_tertiary  \\\n",
       "0                  0                    0                   1   \n",
       "1                  0                    1                   0   \n",
       "2                  0                    1                   0   \n",
       "3                  0                    0                   0   \n",
       "4                  0                    0                   0   \n",
       "\n",
       "   education_unknown  \n",
       "0                  0  \n",
       "1                  0  \n",
       "2                  0  \n",
       "3                  1  \n",
       "4                  1  \n",
       "\n",
       "[5 rows x 29 columns]"
      ]
     },
     "execution_count": 266,
     "metadata": {},
     "output_type": "execute_result"
    }
   ],
   "source": [
    "df.head()"
   ]
  },
  {
   "cell_type": "code",
   "execution_count": 267,
   "id": "d5ee79ea",
   "metadata": {},
   "outputs": [],
   "source": [
    "# cols_to_scale =['age','balance','day','duration']\n",
    "cols_to_scale =['age','balance','duration']"
   ]
  },
  {
   "cell_type": "code",
   "execution_count": 268,
   "id": "3edbdb98",
   "metadata": {},
   "outputs": [],
   "source": [
    "from sklearn.preprocessing import RobustScaler\n",
    "from sklearn.preprocessing import MinMaxScaler"
   ]
  },
  {
   "cell_type": "code",
   "execution_count": 269,
   "id": "db08acc3",
   "metadata": {},
   "outputs": [
    {
     "data": {
      "text/html": [
       "<div>\n",
       "<style scoped>\n",
       "    .dataframe tbody tr th:only-of-type {\n",
       "        vertical-align: middle;\n",
       "    }\n",
       "\n",
       "    .dataframe tbody tr th {\n",
       "        vertical-align: top;\n",
       "    }\n",
       "\n",
       "    .dataframe thead th {\n",
       "        text-align: right;\n",
       "    }\n",
       "</style>\n",
       "<table border=\"1\" class=\"dataframe\">\n",
       "  <thead>\n",
       "    <tr style=\"text-align: right;\">\n",
       "      <th></th>\n",
       "      <th>age</th>\n",
       "      <th>balance</th>\n",
       "      <th>housing</th>\n",
       "      <th>loan</th>\n",
       "      <th>duration</th>\n",
       "      <th>campaign</th>\n",
       "      <th>y</th>\n",
       "      <th>job_admin</th>\n",
       "      <th>job_blue-collar</th>\n",
       "      <th>job_entrepreneur</th>\n",
       "      <th>...</th>\n",
       "      <th>marital_divorced</th>\n",
       "      <th>marital_married</th>\n",
       "      <th>marital_single</th>\n",
       "      <th>contact_cellular</th>\n",
       "      <th>contact_telephone</th>\n",
       "      <th>contact_unknown</th>\n",
       "      <th>education_primary</th>\n",
       "      <th>education_secondary</th>\n",
       "      <th>education_tertiary</th>\n",
       "      <th>education_unknown</th>\n",
       "    </tr>\n",
       "  </thead>\n",
       "  <tbody>\n",
       "    <tr>\n",
       "      <th>0</th>\n",
       "      <td>0.78</td>\n",
       "      <td>0.53</td>\n",
       "      <td>1</td>\n",
       "      <td>0</td>\n",
       "      <td>0.25</td>\n",
       "      <td>1</td>\n",
       "      <td>0</td>\n",
       "      <td>0</td>\n",
       "      <td>0</td>\n",
       "      <td>0</td>\n",
       "      <td>...</td>\n",
       "      <td>0</td>\n",
       "      <td>1</td>\n",
       "      <td>0</td>\n",
       "      <td>0</td>\n",
       "      <td>0</td>\n",
       "      <td>1</td>\n",
       "      <td>0</td>\n",
       "      <td>0</td>\n",
       "      <td>1</td>\n",
       "      <td>0</td>\n",
       "    </tr>\n",
       "    <tr>\n",
       "      <th>1</th>\n",
       "      <td>0.50</td>\n",
       "      <td>0.41</td>\n",
       "      <td>1</td>\n",
       "      <td>0</td>\n",
       "      <td>0.15</td>\n",
       "      <td>1</td>\n",
       "      <td>0</td>\n",
       "      <td>0</td>\n",
       "      <td>0</td>\n",
       "      <td>0</td>\n",
       "      <td>...</td>\n",
       "      <td>0</td>\n",
       "      <td>0</td>\n",
       "      <td>1</td>\n",
       "      <td>0</td>\n",
       "      <td>0</td>\n",
       "      <td>1</td>\n",
       "      <td>0</td>\n",
       "      <td>1</td>\n",
       "      <td>0</td>\n",
       "      <td>0</td>\n",
       "    </tr>\n",
       "    <tr>\n",
       "      <th>2</th>\n",
       "      <td>0.28</td>\n",
       "      <td>0.41</td>\n",
       "      <td>1</td>\n",
       "      <td>1</td>\n",
       "      <td>0.07</td>\n",
       "      <td>1</td>\n",
       "      <td>0</td>\n",
       "      <td>0</td>\n",
       "      <td>0</td>\n",
       "      <td>1</td>\n",
       "      <td>...</td>\n",
       "      <td>0</td>\n",
       "      <td>1</td>\n",
       "      <td>0</td>\n",
       "      <td>0</td>\n",
       "      <td>0</td>\n",
       "      <td>1</td>\n",
       "      <td>0</td>\n",
       "      <td>1</td>\n",
       "      <td>0</td>\n",
       "      <td>0</td>\n",
       "    </tr>\n",
       "    <tr>\n",
       "      <th>3</th>\n",
       "      <td>0.56</td>\n",
       "      <td>0.50</td>\n",
       "      <td>1</td>\n",
       "      <td>0</td>\n",
       "      <td>0.09</td>\n",
       "      <td>1</td>\n",
       "      <td>0</td>\n",
       "      <td>0</td>\n",
       "      <td>1</td>\n",
       "      <td>0</td>\n",
       "      <td>...</td>\n",
       "      <td>0</td>\n",
       "      <td>1</td>\n",
       "      <td>0</td>\n",
       "      <td>0</td>\n",
       "      <td>0</td>\n",
       "      <td>1</td>\n",
       "      <td>0</td>\n",
       "      <td>0</td>\n",
       "      <td>0</td>\n",
       "      <td>1</td>\n",
       "    </tr>\n",
       "    <tr>\n",
       "      <th>4</th>\n",
       "      <td>0.28</td>\n",
       "      <td>0.41</td>\n",
       "      <td>0</td>\n",
       "      <td>0</td>\n",
       "      <td>0.19</td>\n",
       "      <td>1</td>\n",
       "      <td>0</td>\n",
       "      <td>0</td>\n",
       "      <td>0</td>\n",
       "      <td>0</td>\n",
       "      <td>...</td>\n",
       "      <td>0</td>\n",
       "      <td>0</td>\n",
       "      <td>1</td>\n",
       "      <td>0</td>\n",
       "      <td>0</td>\n",
       "      <td>1</td>\n",
       "      <td>0</td>\n",
       "      <td>0</td>\n",
       "      <td>0</td>\n",
       "      <td>1</td>\n",
       "    </tr>\n",
       "  </tbody>\n",
       "</table>\n",
       "<p>5 rows × 29 columns</p>\n",
       "</div>"
      ],
      "text/plain": [
       "   age  balance  housing  loan  duration  campaign  y  job_admin  \\\n",
       "0 0.78     0.53        1     0      0.25         1  0          0   \n",
       "1 0.50     0.41        1     0      0.15         1  0          0   \n",
       "2 0.28     0.41        1     1      0.07         1  0          0   \n",
       "3 0.56     0.50        1     0      0.09         1  0          0   \n",
       "4 0.28     0.41        0     0      0.19         1  0          0   \n",
       "\n",
       "   job_blue-collar  job_entrepreneur  ...  marital_divorced  marital_married  \\\n",
       "0                0                 0  ...                 0                1   \n",
       "1                0                 0  ...                 0                0   \n",
       "2                0                 1  ...                 0                1   \n",
       "3                1                 0  ...                 0                1   \n",
       "4                0                 0  ...                 0                0   \n",
       "\n",
       "   marital_single  contact_cellular  contact_telephone  contact_unknown  \\\n",
       "0               0                 0                  0                1   \n",
       "1               1                 0                  0                1   \n",
       "2               0                 0                  0                1   \n",
       "3               0                 0                  0                1   \n",
       "4               1                 0                  0                1   \n",
       "\n",
       "   education_primary  education_secondary  education_tertiary  \\\n",
       "0                  0                    0                   1   \n",
       "1                  0                    1                   0   \n",
       "2                  0                    1                   0   \n",
       "3                  0                    0                   0   \n",
       "4                  0                    0                   0   \n",
       "\n",
       "   education_unknown  \n",
       "0                  0  \n",
       "1                  0  \n",
       "2                  0  \n",
       "3                  1  \n",
       "4                  1  \n",
       "\n",
       "[5 rows x 29 columns]"
      ]
     },
     "execution_count": 269,
     "metadata": {},
     "output_type": "execute_result"
    }
   ],
   "source": [
    "# scaler=RobustScaler()\n",
    "scaler=MinMaxScaler()\n",
    "df[cols_to_scale] = scaler.fit_transform(df[cols_to_scale])\n",
    "df.head(5)\n",
    "#df.default.value_counts()"
   ]
  },
  {
   "cell_type": "markdown",
   "id": "93b652c3",
   "metadata": {},
   "source": [
    "# Modelling\n",
    "* Splitting the dataset: let us take 20% of the data for the test and 80% for the train.\n",
    "* Target of our data is the variable y.\n",
    "* Perform resampling to balance the data. we will choose an oversampling technique\n",
    "* Check the performance of basbic machine models without hyperparameter tuning. choose 3 best models\n",
    "* Perform hyperparameter tunning the selected models\n",
    "* Perform some features enginering"
   ]
  },
  {
   "cell_type": "code",
   "execution_count": 270,
   "id": "37b5dd8f",
   "metadata": {},
   "outputs": [],
   "source": [
    "# pip install lazypredict\n",
    "#!python -m pip uninstall lazypredict --yes"
   ]
  },
  {
   "cell_type": "code",
   "execution_count": 271,
   "id": "0d5e8d8b",
   "metadata": {},
   "outputs": [],
   "source": [
    "#splitting data\n",
    "from sklearn.model_selection import train_test_split\n",
    "\n",
    "#models\n",
    "import lazypredict\n",
    "from lazypredict.Supervised import LazyClassifier\n",
    "from sklearn.linear_model import LogisticRegression\n",
    "from sklearn.ensemble import RandomForestClassifier\n",
    "from sklearn.ensemble import BaggingClassifier\n",
    "from sklearn.tree import DecisionTreeClassifier\n",
    "from sklearn import svm\n",
    "from sklearn.ensemble import AdaBoostClassifier\n",
    "from sklearn.ensemble import GradientBoostingClassifier\n",
    "from lightgbm import LGBMClassifier\n",
    "from xgboost import XGBClassifier\n",
    "from sklearn.naive_bayes import BernoulliNB\n",
    "from sklearn.ensemble import BaggingClassifier\n",
    "from sklearn.svm import NuSVC\n",
    "from sklearn.svm import SVC\n",
    "from sklearn.svm import SVC\n",
    "\n",
    "#model selections\n",
    "from sklearn.model_selection import cross_validate\n",
    "from sklearn.model_selection import GridSearchCV\n",
    "from sklearn.model_selection import KFold\n",
    "\n",
    "#performance metrics\n",
    "from sklearn.metrics import accuracy_score,confusion_matrix,classification_report\n",
    "\n",
    "#save models\n",
    "import joblib\n",
    "#shap analysis\n",
    "import shap"
   ]
  },
  {
   "cell_type": "code",
   "execution_count": 272,
   "id": "a1b3a243",
   "metadata": {},
   "outputs": [
    {
     "data": {
      "text/plain": [
       "Index(['age', 'balance', 'housing', 'loan', 'duration', 'campaign',\n",
       "       'job_admin', 'job_blue-collar', 'job_entrepreneur', 'job_housemaid',\n",
       "       'job_management', 'job_retired', 'job_self-employed', 'job_services',\n",
       "       'job_student', 'job_technician', 'job_unemployed', 'job_unknown',\n",
       "       'marital_divorced', 'marital_married', 'marital_single',\n",
       "       'contact_cellular', 'contact_telephone', 'contact_unknown',\n",
       "       'education_primary', 'education_secondary', 'education_tertiary',\n",
       "       'education_unknown'],\n",
       "      dtype='object')"
      ]
     },
     "execution_count": 272,
     "metadata": {},
     "output_type": "execute_result"
    }
   ],
   "source": [
    "X=df.drop(\"y\",axis=1) #features or independent variable\n",
    "y=df[\"y\"] #target or dependent variable\n",
    "X.columns"
   ]
  },
  {
   "cell_type": "code",
   "execution_count": 273,
   "id": "594554bc",
   "metadata": {},
   "outputs": [],
   "source": [
    "X_train, X_val, y_train, y_val = train_test_split(X, y, test_size=0.20, random_state=0)"
   ]
  },
  {
   "cell_type": "code",
   "execution_count": 274,
   "id": "f6a53aa7",
   "metadata": {},
   "outputs": [
    {
     "name": "stdout",
     "output_type": "stream",
     "text": [
      "(30066, 28)\n",
      "(30066,)\n",
      "(7517, 28)\n",
      "(7517,)\n"
     ]
    }
   ],
   "source": [
    "print(X_train.shape)\n",
    "print(y_train.shape)\n",
    "\n",
    "print(X_val.shape)\n",
    "print(y_val.shape)"
   ]
  },
  {
   "cell_type": "code",
   "execution_count": 275,
   "id": "def6873d",
   "metadata": {},
   "outputs": [
    {
     "data": {
      "text/plain": [
       "0    28274\n",
       "1     1792\n",
       "Name: y, dtype: int64"
      ]
     },
     "execution_count": 275,
     "metadata": {},
     "output_type": "execute_result"
    }
   ],
   "source": [
    "y_train.value_counts()"
   ]
  },
  {
   "cell_type": "code",
   "execution_count": 276,
   "id": "35fdcf48",
   "metadata": {},
   "outputs": [
    {
     "data": {
      "text/plain": [
       "0    7039\n",
       "1     478\n",
       "Name: y, dtype: int64"
      ]
     },
     "execution_count": 276,
     "metadata": {},
     "output_type": "execute_result"
    }
   ],
   "source": [
    "y_val.value_counts()"
   ]
  },
  {
   "cell_type": "markdown",
   "id": "ac7c759b",
   "metadata": {},
   "source": [
    "## Oversampling"
   ]
  },
  {
   "cell_type": "code",
   "execution_count": 277,
   "id": "358f77a9",
   "metadata": {},
   "outputs": [],
   "source": [
    "from collections import Counter\n",
    "from imblearn.under_sampling import NearMiss\n",
    "from imblearn.over_sampling import RandomOverSampler\n",
    "from imblearn.combine import SMOTETomek"
   ]
  },
  {
   "cell_type": "code",
   "execution_count": 278,
   "id": "f9366217",
   "metadata": {},
   "outputs": [
    {
     "name": "stdout",
     "output_type": "stream",
     "text": [
      "The number of classes before fit Counter({0: 28274, 1: 1792})\n",
      "The number of classes after fit Counter({0: 28274, 1: 21205})\n"
     ]
    }
   ],
   "source": [
    "os=RandomOverSampler(0.75)\n",
    "X_train_ns,y_train_ns=os.fit_resample(X_train,y_train)\n",
    "print(\"The number of classes before fit {}\".format(Counter(y_train)))\n",
    "print(\"The number of classes after fit {}\".format(Counter(y_train_ns)))"
   ]
  },
  {
   "cell_type": "markdown",
   "id": "52872a05",
   "metadata": {},
   "source": [
    "## Hyperparameter tuning and Kfold-cross validation"
   ]
  },
  {
   "cell_type": "markdown",
   "id": "b44b0d25",
   "metadata": {},
   "source": [
    "Testing all basic machine learning models. Because we have a classification problem, we will test just models of classification using the lazyClassifier package"
   ]
  },
  {
   "cell_type": "code",
   "execution_count": 279,
   "id": "a50e2d82",
   "metadata": {},
   "outputs": [
    {
     "name": "stderr",
     "output_type": "stream",
     "text": [
      " 90%|██████████████████████████████████████▌    | 26/29 [07:56<02:26, 48.94s/it]"
     ]
    },
    {
     "name": "stdout",
     "output_type": "stream",
     "text": [
      "[14:35:39] WARNING: ../src/learner.cc:1115: Starting in XGBoost 1.3.0, the default evaluation metric used with the objective 'binary:logistic' was changed from 'error' to 'logloss'. Explicitly set eval_metric if you'd like to restore the old behavior.\n"
     ]
    },
    {
     "name": "stderr",
     "output_type": "stream",
     "text": [
      "100%|███████████████████████████████████████████| 29/29 [08:00<00:00, 16.58s/it]\n"
     ]
    },
    {
     "data": {
      "text/html": [
       "<div>\n",
       "<style scoped>\n",
       "    .dataframe tbody tr th:only-of-type {\n",
       "        vertical-align: middle;\n",
       "    }\n",
       "\n",
       "    .dataframe tbody tr th {\n",
       "        vertical-align: top;\n",
       "    }\n",
       "\n",
       "    .dataframe thead th {\n",
       "        text-align: right;\n",
       "    }\n",
       "</style>\n",
       "<table border=\"1\" class=\"dataframe\">\n",
       "  <thead>\n",
       "    <tr style=\"text-align: right;\">\n",
       "      <th></th>\n",
       "      <th>Accuracy</th>\n",
       "      <th>Balanced Accuracy</th>\n",
       "      <th>ROC AUC</th>\n",
       "      <th>F1 Score</th>\n",
       "      <th>Time Taken</th>\n",
       "    </tr>\n",
       "    <tr>\n",
       "      <th>Model</th>\n",
       "      <th></th>\n",
       "      <th></th>\n",
       "      <th></th>\n",
       "      <th></th>\n",
       "      <th></th>\n",
       "    </tr>\n",
       "  </thead>\n",
       "  <tbody>\n",
       "    <tr>\n",
       "      <th>LGBMClassifier</th>\n",
       "      <td>0.87</td>\n",
       "      <td>0.79</td>\n",
       "      <td>0.79</td>\n",
       "      <td>0.89</td>\n",
       "      <td>0.55</td>\n",
       "    </tr>\n",
       "    <tr>\n",
       "      <th>NuSVC</th>\n",
       "      <td>0.86</td>\n",
       "      <td>0.78</td>\n",
       "      <td>0.78</td>\n",
       "      <td>0.89</td>\n",
       "      <td>252.87</td>\n",
       "    </tr>\n",
       "    <tr>\n",
       "      <th>LogisticRegression</th>\n",
       "      <td>0.86</td>\n",
       "      <td>0.78</td>\n",
       "      <td>0.78</td>\n",
       "      <td>0.89</td>\n",
       "      <td>0.15</td>\n",
       "    </tr>\n",
       "    <tr>\n",
       "      <th>SGDClassifier</th>\n",
       "      <td>0.86</td>\n",
       "      <td>0.78</td>\n",
       "      <td>0.78</td>\n",
       "      <td>0.88</td>\n",
       "      <td>0.45</td>\n",
       "    </tr>\n",
       "    <tr>\n",
       "      <th>AdaBoostClassifier</th>\n",
       "      <td>0.87</td>\n",
       "      <td>0.78</td>\n",
       "      <td>0.78</td>\n",
       "      <td>0.89</td>\n",
       "      <td>1.97</td>\n",
       "    </tr>\n",
       "    <tr>\n",
       "      <th>CalibratedClassifierCV</th>\n",
       "      <td>0.86</td>\n",
       "      <td>0.78</td>\n",
       "      <td>0.78</td>\n",
       "      <td>0.89</td>\n",
       "      <td>44.83</td>\n",
       "    </tr>\n",
       "    <tr>\n",
       "      <th>LinearSVC</th>\n",
       "      <td>0.87</td>\n",
       "      <td>0.78</td>\n",
       "      <td>0.78</td>\n",
       "      <td>0.89</td>\n",
       "      <td>12.28</td>\n",
       "    </tr>\n",
       "    <tr>\n",
       "      <th>LinearDiscriminantAnalysis</th>\n",
       "      <td>0.87</td>\n",
       "      <td>0.77</td>\n",
       "      <td>0.77</td>\n",
       "      <td>0.90</td>\n",
       "      <td>0.28</td>\n",
       "    </tr>\n",
       "    <tr>\n",
       "      <th>RidgeClassifierCV</th>\n",
       "      <td>0.87</td>\n",
       "      <td>0.77</td>\n",
       "      <td>0.77</td>\n",
       "      <td>0.90</td>\n",
       "      <td>0.24</td>\n",
       "    </tr>\n",
       "    <tr>\n",
       "      <th>RidgeClassifier</th>\n",
       "      <td>0.87</td>\n",
       "      <td>0.77</td>\n",
       "      <td>0.77</td>\n",
       "      <td>0.90</td>\n",
       "      <td>0.11</td>\n",
       "    </tr>\n",
       "    <tr>\n",
       "      <th>SVC</th>\n",
       "      <td>0.85</td>\n",
       "      <td>0.77</td>\n",
       "      <td>0.77</td>\n",
       "      <td>0.88</td>\n",
       "      <td>150.26</td>\n",
       "    </tr>\n",
       "    <tr>\n",
       "      <th>XGBClassifier</th>\n",
       "      <td>0.89</td>\n",
       "      <td>0.75</td>\n",
       "      <td>0.75</td>\n",
       "      <td>0.90</td>\n",
       "      <td>3.44</td>\n",
       "    </tr>\n",
       "    <tr>\n",
       "      <th>NearestCentroid</th>\n",
       "      <td>0.78</td>\n",
       "      <td>0.74</td>\n",
       "      <td>0.74</td>\n",
       "      <td>0.83</td>\n",
       "      <td>0.09</td>\n",
       "    </tr>\n",
       "    <tr>\n",
       "      <th>BernoulliNB</th>\n",
       "      <td>0.80</td>\n",
       "      <td>0.74</td>\n",
       "      <td>0.74</td>\n",
       "      <td>0.85</td>\n",
       "      <td>0.11</td>\n",
       "    </tr>\n",
       "    <tr>\n",
       "      <th>GaussianNB</th>\n",
       "      <td>0.77</td>\n",
       "      <td>0.73</td>\n",
       "      <td>0.73</td>\n",
       "      <td>0.83</td>\n",
       "      <td>0.11</td>\n",
       "    </tr>\n",
       "    <tr>\n",
       "      <th>Perceptron</th>\n",
       "      <td>0.80</td>\n",
       "      <td>0.73</td>\n",
       "      <td>0.73</td>\n",
       "      <td>0.84</td>\n",
       "      <td>0.15</td>\n",
       "    </tr>\n",
       "    <tr>\n",
       "      <th>PassiveAggressiveClassifier</th>\n",
       "      <td>0.75</td>\n",
       "      <td>0.71</td>\n",
       "      <td>0.71</td>\n",
       "      <td>0.81</td>\n",
       "      <td>0.15</td>\n",
       "    </tr>\n",
       "    <tr>\n",
       "      <th>KNeighborsClassifier</th>\n",
       "      <td>0.87</td>\n",
       "      <td>0.67</td>\n",
       "      <td>0.67</td>\n",
       "      <td>0.89</td>\n",
       "      <td>1.64</td>\n",
       "    </tr>\n",
       "    <tr>\n",
       "      <th>RandomForestClassifier</th>\n",
       "      <td>0.93</td>\n",
       "      <td>0.61</td>\n",
       "      <td>0.61</td>\n",
       "      <td>0.92</td>\n",
       "      <td>4.11</td>\n",
       "    </tr>\n",
       "    <tr>\n",
       "      <th>QuadraticDiscriminantAnalysis</th>\n",
       "      <td>0.84</td>\n",
       "      <td>0.61</td>\n",
       "      <td>0.61</td>\n",
       "      <td>0.87</td>\n",
       "      <td>0.17</td>\n",
       "    </tr>\n",
       "    <tr>\n",
       "      <th>BaggingClassifier</th>\n",
       "      <td>0.93</td>\n",
       "      <td>0.61</td>\n",
       "      <td>0.61</td>\n",
       "      <td>0.92</td>\n",
       "      <td>1.67</td>\n",
       "    </tr>\n",
       "    <tr>\n",
       "      <th>DecisionTreeClassifier</th>\n",
       "      <td>0.91</td>\n",
       "      <td>0.60</td>\n",
       "      <td>0.60</td>\n",
       "      <td>0.91</td>\n",
       "      <td>0.31</td>\n",
       "    </tr>\n",
       "    <tr>\n",
       "      <th>ExtraTreeClassifier</th>\n",
       "      <td>0.91</td>\n",
       "      <td>0.60</td>\n",
       "      <td>0.60</td>\n",
       "      <td>0.91</td>\n",
       "      <td>0.11</td>\n",
       "    </tr>\n",
       "    <tr>\n",
       "      <th>ExtraTreesClassifier</th>\n",
       "      <td>0.93</td>\n",
       "      <td>0.57</td>\n",
       "      <td>0.57</td>\n",
       "      <td>0.92</td>\n",
       "      <td>4.41</td>\n",
       "    </tr>\n",
       "    <tr>\n",
       "      <th>DummyClassifier</th>\n",
       "      <td>0.94</td>\n",
       "      <td>0.50</td>\n",
       "      <td>0.50</td>\n",
       "      <td>0.91</td>\n",
       "      <td>0.08</td>\n",
       "    </tr>\n",
       "  </tbody>\n",
       "</table>\n",
       "</div>"
      ],
      "text/plain": [
       "                               Accuracy  Balanced Accuracy  ROC AUC  F1 Score  \\\n",
       "Model                                                                           \n",
       "LGBMClassifier                     0.87               0.79     0.79      0.89   \n",
       "NuSVC                              0.86               0.78     0.78      0.89   \n",
       "LogisticRegression                 0.86               0.78     0.78      0.89   \n",
       "SGDClassifier                      0.86               0.78     0.78      0.88   \n",
       "AdaBoostClassifier                 0.87               0.78     0.78      0.89   \n",
       "CalibratedClassifierCV             0.86               0.78     0.78      0.89   \n",
       "LinearSVC                          0.87               0.78     0.78      0.89   \n",
       "LinearDiscriminantAnalysis         0.87               0.77     0.77      0.90   \n",
       "RidgeClassifierCV                  0.87               0.77     0.77      0.90   \n",
       "RidgeClassifier                    0.87               0.77     0.77      0.90   \n",
       "SVC                                0.85               0.77     0.77      0.88   \n",
       "XGBClassifier                      0.89               0.75     0.75      0.90   \n",
       "NearestCentroid                    0.78               0.74     0.74      0.83   \n",
       "BernoulliNB                        0.80               0.74     0.74      0.85   \n",
       "GaussianNB                         0.77               0.73     0.73      0.83   \n",
       "Perceptron                         0.80               0.73     0.73      0.84   \n",
       "PassiveAggressiveClassifier        0.75               0.71     0.71      0.81   \n",
       "KNeighborsClassifier               0.87               0.67     0.67      0.89   \n",
       "RandomForestClassifier             0.93               0.61     0.61      0.92   \n",
       "QuadraticDiscriminantAnalysis      0.84               0.61     0.61      0.87   \n",
       "BaggingClassifier                  0.93               0.61     0.61      0.92   \n",
       "DecisionTreeClassifier             0.91               0.60     0.60      0.91   \n",
       "ExtraTreeClassifier                0.91               0.60     0.60      0.91   \n",
       "ExtraTreesClassifier               0.93               0.57     0.57      0.92   \n",
       "DummyClassifier                    0.94               0.50     0.50      0.91   \n",
       "\n",
       "                               Time Taken  \n",
       "Model                                      \n",
       "LGBMClassifier                       0.55  \n",
       "NuSVC                              252.87  \n",
       "LogisticRegression                   0.15  \n",
       "SGDClassifier                        0.45  \n",
       "AdaBoostClassifier                   1.97  \n",
       "CalibratedClassifierCV              44.83  \n",
       "LinearSVC                           12.28  \n",
       "LinearDiscriminantAnalysis           0.28  \n",
       "RidgeClassifierCV                    0.24  \n",
       "RidgeClassifier                      0.11  \n",
       "SVC                                150.26  \n",
       "XGBClassifier                        3.44  \n",
       "NearestCentroid                      0.09  \n",
       "BernoulliNB                          0.11  \n",
       "GaussianNB                           0.11  \n",
       "Perceptron                           0.15  \n",
       "PassiveAggressiveClassifier          0.15  \n",
       "KNeighborsClassifier                 1.64  \n",
       "RandomForestClassifier               4.11  \n",
       "QuadraticDiscriminantAnalysis        0.17  \n",
       "BaggingClassifier                    1.67  \n",
       "DecisionTreeClassifier               0.31  \n",
       "ExtraTreeClassifier                  0.11  \n",
       "ExtraTreesClassifier                 4.41  \n",
       "DummyClassifier                      0.08  "
      ]
     },
     "execution_count": 279,
     "metadata": {},
     "output_type": "execute_result"
    }
   ],
   "source": [
    "lazym_clf = LazyClassifier(verbose=0,ignore_warnings=True, custom_metric=None)\n",
    "models,predictions = lazym_clf.fit(X_train_ns, X_val, y_train_ns, y_val)\n",
    "models"
   ]
  },
  {
   "cell_type": "markdown",
   "id": "f5b95adf",
   "metadata": {},
   "source": [
    "Let's see the first 10 best models by ROC AUC score  (suitable for the imbalance data)"
   ]
  },
  {
   "cell_type": "code",
   "execution_count": 280,
   "id": "f0e77e8f",
   "metadata": {},
   "outputs": [
    {
     "data": {
      "text/plain": [
       "['LGBMClassifier',\n",
       " 'NuSVC',\n",
       " 'LogisticRegression',\n",
       " 'SGDClassifier',\n",
       " 'AdaBoostClassifier',\n",
       " 'CalibratedClassifierCV',\n",
       " 'LinearSVC',\n",
       " 'LinearDiscriminantAnalysis',\n",
       " 'RidgeClassifierCV',\n",
       " 'RidgeClassifier']"
      ]
     },
     "execution_count": 280,
     "metadata": {},
     "output_type": "execute_result"
    }
   ],
   "source": [
    "best_models=models.sort_values(by=['ROC AUC'], ascending=False).index.tolist()\n",
    "list_models=best_models[:10]\n",
    "list_models"
   ]
  },
  {
   "cell_type": "code",
   "execution_count": 281,
   "id": "68c6707d",
   "metadata": {},
   "outputs": [],
   "source": [
    "cv=KFold(n_splits=5,random_state=None,shuffle=False)"
   ]
  },
  {
   "cell_type": "code",
   "execution_count": 282,
   "id": "a02a753d",
   "metadata": {},
   "outputs": [
    {
     "name": "stdout",
     "output_type": "stream",
     "text": [
      "Logistic Regression model:\n",
      "Test accuracy on folds: [97.65864042 96.02234934 95.13103632 91.64449175 89.76849388] %\n",
      "Average  test accuracy: 94.04500234097726 %\n",
      "Test ROC AUC score on folds:  [96.06001649 92.50767269 85.04946201 78.86105874 86.97629285] %\n",
      "Average  test ROC AUC score: 87.89090055464838 %\n"
     ]
    }
   ],
   "source": [
    "print(\"Logistic Regression model:\")\n",
    "model_lrg=LogisticRegression()\n",
    "model_lrg.fit(X_train_ns,y_train_ns)\n",
    "lrg_cross=cross_validate(model_lrg,X,y,scoring=\"accuracy\",cv=cv)\n",
    "print(\"Test accuracy on folds:\", lrg_cross['test_score']*100, \"%\")\n",
    "print(\"Average  test accuracy:\" ,lrg_cross['test_score'].mean()*100, \"%\")\n",
    "\n",
    "model_lrg=LogisticRegression()\n",
    "model_lrg.fit(X_train_ns,y_train_ns)\n",
    "lrg_cross=cross_validate(model_lrg,X,y,scoring=\"roc_auc\",cv=cv)\n",
    "print(\"Test ROC AUC score on folds: \", lrg_cross['test_score']*100, \"%\")\n",
    "print(\"Average  test ROC AUC score:\" ,lrg_cross['test_score'].mean()*100, \"%\")"
   ]
  },
  {
   "cell_type": "code",
   "execution_count": 283,
   "id": "b8fb080e",
   "metadata": {},
   "outputs": [
    {
     "name": "stdout",
     "output_type": "stream",
     "text": [
      "LGBMClassifier model:\n",
      "Test accuracy on folds: [97.59212452 95.87601437 94.93148863 91.05907398 89.209686  ] %\n",
      "Average  test accuracy: 93.73367749793744 %\n",
      "Test ROC AUC score on folds: [96.0112571  92.59970478 83.37714379 79.79435365 85.69830323] %\n",
      "Average  test ROC AUC score: 87.49615251126157 %\n"
     ]
    }
   ],
   "source": [
    "print(\"LGBMClassifier model:\")\n",
    "model_lgbm=LGBMClassifier()\n",
    "model_lgbm.fit(X_train_ns,y_train_ns)\n",
    "lgbm_cross=cross_validate(model_lgbm,X,y,scoring=\"accuracy\",cv=cv)\n",
    "print(\"Test accuracy on folds:\", lgbm_cross['test_score']*100, \"%\")\n",
    "print(\"Average  test accuracy:\" ,lgbm_cross['test_score'].mean()*100, \"%\")\n",
    "\n",
    "model_lgbm=LGBMClassifier()\n",
    "model_lgbm.fit(X_train_ns,y_train_ns)\n",
    "lgbm_cross=cross_validate(model_lgbm,X,y,scoring=\"roc_auc\",cv=cv)\n",
    "print(\"Test ROC AUC score on folds:\", lgbm_cross['test_score']*100, \"%\")\n",
    "print(\"Average  test ROC AUC score:\" ,lgbm_cross['test_score'].mean()*100, \"%\")"
   ]
  },
  {
   "cell_type": "code",
   "execution_count": 284,
   "id": "a1655d67",
   "metadata": {},
   "outputs": [
    {
     "name": "stdout",
     "output_type": "stream",
     "text": [
      "AdaBoostClassifier model:\n",
      "Test accuracy on folds:  [97.67194359 95.79619529 94.33284555 91.13890367 89.78179883] %\n",
      "Average  test accuracy: 93.7443373873221 %\n",
      "Test ROC AUC score on folds:  [95.01849494 91.79285661 87.08575386 79.87484575 85.59117415] %\n",
      "Average  test ROC AUC score: 87.87262506352232 %\n"
     ]
    }
   ],
   "source": [
    "print(\"AdaBoostClassifier model:\")\n",
    "model_ab=AdaBoostClassifier()\n",
    "model_ab.fit(X_train_ns,y_train_ns)\n",
    "ab_cross=cross_validate(model_ab,X,y,scoring=\"accuracy\",cv=cv)\n",
    "print(\"Test accuracy on folds: \", ab_cross['test_score']*100, \"%\")\n",
    "print(\"Average  test accuracy:\" ,ab_cross['test_score'].mean()*100, \"%\")\n",
    "\n",
    "model_ab=AdaBoostClassifier()\n",
    "model_ab.fit(X_train_ns,y_train_ns)\n",
    "ab_cross=cross_validate(model_ab,X,y,scoring=\"roc_auc\",cv=cv)\n",
    "print(\"Test ROC AUC score on folds: \", ab_cross['test_score']*100, \"%\")\n",
    "print(\"Average  test ROC AUC score:\" ,ab_cross['test_score'].mean()*100, \"%\")"
   ]
  },
  {
   "cell_type": "code",
   "execution_count": 285,
   "id": "06b2d0c4",
   "metadata": {},
   "outputs": [
    {
     "name": "stdout",
     "output_type": "stream",
     "text": [
      "Tunning AdaBoostClassifier model:\n",
      "Fitting 5 folds for each of 112 candidates, totalling 560 fits\n",
      "confusion matrix for random forest training data:\n",
      "[[24796  3478]\n",
      " [  452  1340]]\n",
      "classification report random forest:\n",
      "              precision    recall  f1-score   support\n",
      "\n",
      "           0       0.98      0.88      0.93     28274\n",
      "           1       0.28      0.75      0.41      1792\n",
      "\n",
      "    accuracy                           0.87     30066\n",
      "   macro avg       0.63      0.81      0.67     30066\n",
      "weighted avg       0.94      0.87      0.90     30066\n",
      "\n",
      "confusion matrix for random forest validation data:\n",
      "[[6195  844]\n",
      " [ 154  324]]\n",
      "classification report random forest:\n",
      "              precision    recall  f1-score   support\n",
      "\n",
      "           0       0.98      0.88      0.93      7039\n",
      "           1       0.28      0.68      0.39       478\n",
      "\n",
      "    accuracy                           0.87      7517\n",
      "   macro avg       0.63      0.78      0.66      7517\n",
      "weighted avg       0.93      0.87      0.89      7517\n",
      "\n"
     ]
    }
   ],
   "source": [
    "print(\"Tunning AdaBoostClassifier model:\")\n",
    "params_grid_ab={\n",
    "    'n_estimators': [1, 2, 3, 4, 5, 6, 7, 8, 9, 10, 11, 12, 20, 30],\n",
    "    'learning_rate': [(0.01 + x / 100) for x in range(0, 8)]\n",
    "}\n",
    "\n",
    "cv=KFold(n_splits=5,random_state=None,shuffle=False)\n",
    "\n",
    "grid_ab=GridSearchCV(AdaBoostClassifier(),params_grid_ab,scoring=\"accuracy\",cv=cv,verbose=1,n_jobs = 4)\n",
    "grid_ab.fit(X_train_ns,y_train_ns)\n",
    "\n",
    "grid_ab.best_params_\n",
    "model_ab1=grid_ab.best_estimator_\n",
    "\n",
    "y_train_pred_ab=model_ab.predict(X_train)\n",
    "y_val_pred_ab=model_ab.predict(X_val)\n",
    "\n",
    "print(\"confusion matrix for random forest training data:\")\n",
    "print(confusion_matrix(y_train,y_train_pred_ab))\n",
    "print(\"classification report random forest:\")\n",
    "print(classification_report(y_train,y_train_pred_ab))\n",
    "\n",
    "print(\"confusion matrix for random forest validation data:\")\n",
    "print(confusion_matrix(y_val,y_val_pred_ab))\n",
    "print(\"classification report random forest:\")\n",
    "print(classification_report(y_val,y_val_pred_ab))"
   ]
  },
  {
   "cell_type": "code",
   "execution_count": 286,
   "id": "f668cbc3",
   "metadata": {},
   "outputs": [
    {
     "name": "stdout",
     "output_type": "stream",
     "text": [
      "Test accuracy on folds:  [97.73845949 95.86271119 94.89157909 92.34965407 88.95689196] %\n",
      "Average  test accuracy: 93.95985916046389 %\n",
      "Test ROC AUC score on folds:  [93.72853265 91.65078137 81.92376834 66.99139956 71.42358245] %\n",
      "Average  test ROC AUC score: 81.14361287602235 %\n"
     ]
    }
   ],
   "source": [
    "rf_cross=cross_validate(model_ab1,X,y,scoring=\"accuracy\",cv=cv)\n",
    "print(\"Test accuracy on folds: \", rf_cross['test_score']*100, \"%\")\n",
    "print(\"Average  test accuracy:\" ,rf_cross['test_score'].mean()*100, \"%\")\n",
    "\n",
    "rf_cross=cross_validate(model_ab1,X,y,scoring=\"roc_auc\",cv=cv)\n",
    "print(\"Test ROC AUC score on folds: \", rf_cross['test_score']*100, \"%\")\n",
    "print(\"Average  test ROC AUC score:\" ,rf_cross['test_score'].mean()*100, \"%\")"
   ]
  },
  {
   "cell_type": "markdown",
   "id": "b0b42f27",
   "metadata": {},
   "source": [
    "Tunning parameter improve the accuracy (from 93.74% to 93.96%) but not for the ROC AUC."
   ]
  },
  {
   "cell_type": "markdown",
   "id": "5e3e3ac4",
   "metadata": {},
   "source": [
    "**Conclusion:** We can predict if a client will subscribe or not to term deposit with a ROC AUC score 87.87%."
   ]
  }
 ],
 "metadata": {
  "kernelspec": {
   "display_name": "Python 3 (ipykernel)",
   "language": "python",
   "name": "python3"
  },
  "language_info": {
   "codemirror_mode": {
    "name": "ipython",
    "version": 3
   },
   "file_extension": ".py",
   "mimetype": "text/x-python",
   "name": "python",
   "nbconvert_exporter": "python",
   "pygments_lexer": "ipython3",
   "version": "3.9.7"
  }
 },
 "nbformat": 4,
 "nbformat_minor": 5
}
